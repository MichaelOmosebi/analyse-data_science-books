{
 "cells": [
  {
   "cell_type": "markdown",
   "id": "31a3bc28-a53f-4f95-b1ee-3fe93a478c62",
   "metadata": {},
   "source": [
    "# <font color=blue> DATA CLEANING FOR GOODREADS BOOKS AND REVIEWS SCRAPE </font>"
   ]
  },
  {
   "cell_type": "markdown",
   "id": "ab26b57c-0151-4031-891e-4f01dbce916f",
   "metadata": {
    "tags": []
   },
   "source": [
    "### 1.0 INTRODUCTION"
   ]
  },
  {
   "cell_type": "markdown",
   "id": "51246e57-c5ea-4eb6-8bc3-90c6093c8712",
   "metadata": {},
   "source": [
    "##### This notebook contains code which serves as ```Part II``` of an E-2-E project on the sentiments analysis of Data Science books reviews.\n",
    "\n",
    "##### The need to do this cleaning owes to the format in which a lot of the features were scraped from the ```Goodreads``` website. The output of the notebook would be a thoroughly cleaned dataset, ready for analysis."
   ]
  },
  {
   "cell_type": "markdown",
   "id": "ed1e5640-6c9b-4aa2-9962-94d25a0a6204",
   "metadata": {
    "tags": []
   },
   "source": [
    "#### 1.1 IMPORT PACKAGES & DEPENDENCIES"
   ]
  },
  {
   "cell_type": "code",
   "execution_count": 1,
   "id": "4ce6e62d-ff78-413f-8a9a-9d1de69190c6",
   "metadata": {},
   "outputs": [],
   "source": [
    "\n",
    "import pandas as pd\n",
    "import numpy as np\n",
    "\n",
    "import datetime\n",
    "# from datetime import datetime\n",
    "import time\n",
    "\n",
    "import re\n",
    "\n",
    "from tqdm import tqdm\n",
    "\n",
    "# import image module\n",
    "from IPython.display import Image"
   ]
  },
  {
   "cell_type": "markdown",
   "id": "34932f2d-3c95-4dfd-a630-f3a443bc2f74",
   "metadata": {},
   "source": [
    "#### 1.2 PREVIEW THE DATA TO BE CLEANED"
   ]
  },
  {
   "cell_type": "code",
   "execution_count": 2,
   "id": "2f9c21eb-b463-4399-a3af-8059b9162aca",
   "metadata": {},
   "outputs": [
    {
     "name": "stdout",
     "output_type": "stream",
     "text": [
      "<class 'pandas.core.frame.DataFrame'>\n",
      "RangeIndex: 1411 entries, 0 to 1410\n",
      "Data columns (total 24 columns):\n",
      " #   Column                          Non-Null Count  Dtype  \n",
      "---  ------                          --------------  -----  \n",
      " 0   title                           1411 non-null   object \n",
      " 1   title1                          1411 non-null   object \n",
      " 2   author_names                    1411 non-null   object \n",
      " 3   genres                          531 non-null    object \n",
      " 4   num_pages                       1411 non-null   object \n",
      " 5   paperback                       1411 non-null   object \n",
      " 6   rating                          1411 non-null   float64\n",
      " 7   rating1                         1411 non-null   object \n",
      " 8   rating_count                    1411 non-null   object \n",
      " 9   rating_count1                   1411 non-null   object \n",
      " 10  editions                        1411 non-null   object \n",
      " 11  publication_info_firstedition   1411 non-null   object \n",
      " 12  publication_info_firstedition1  1411 non-null   object \n",
      " 13  foreward                        1366 non-null   object \n",
      " 14  foreward1                       1370 non-null   object \n",
      " 15  price                           1411 non-null   object \n",
      " 16  price1                          1411 non-null   object \n",
      " 17  five_star                       1411 non-null   object \n",
      " 18  four_star                       1411 non-null   object \n",
      " 19  three_star                      1411 non-null   object \n",
      " 20  two_star                        1411 non-null   object \n",
      " 21  one_star                        1411 non-null   object \n",
      " 22  reviews                         1411 non-null   object \n",
      " 23  product_url                     1411 non-null   object \n",
      "dtypes: float64(1), object(23)\n",
      "memory usage: 264.7+ KB\n"
     ]
    },
    {
     "data": {
      "text/plain": [
       "None"
      ]
     },
     "metadata": {},
     "output_type": "display_data"
    }
   ],
   "source": [
    "df = pd.read_excel('auto_updated_genres.xlsx').dropna(axis=1, how='all')\n",
    "df = df.copy()\n",
    "display(df.info())"
   ]
  },
  {
   "cell_type": "code",
   "execution_count": 3,
   "id": "bd024cba-43f3-4940-8e7a-9a3ceffd5e70",
   "metadata": {},
   "outputs": [
    {
     "data": {
      "text/html": [
       "<div>\n",
       "<style scoped>\n",
       "    .dataframe tbody tr th:only-of-type {\n",
       "        vertical-align: middle;\n",
       "    }\n",
       "\n",
       "    .dataframe tbody tr th {\n",
       "        vertical-align: top;\n",
       "    }\n",
       "\n",
       "    .dataframe thead th {\n",
       "        text-align: right;\n",
       "    }\n",
       "</style>\n",
       "<table border=\"1\" class=\"dataframe\">\n",
       "  <thead>\n",
       "    <tr style=\"text-align: right;\">\n",
       "      <th></th>\n",
       "      <th>title</th>\n",
       "      <th>title1</th>\n",
       "      <th>author_names</th>\n",
       "      <th>genres</th>\n",
       "      <th>num_pages</th>\n",
       "      <th>paperback</th>\n",
       "      <th>rating</th>\n",
       "      <th>rating1</th>\n",
       "      <th>rating_count</th>\n",
       "      <th>rating_count1</th>\n",
       "      <th>...</th>\n",
       "      <th>foreward1</th>\n",
       "      <th>price</th>\n",
       "      <th>price1</th>\n",
       "      <th>five_star</th>\n",
       "      <th>four_star</th>\n",
       "      <th>three_star</th>\n",
       "      <th>two_star</th>\n",
       "      <th>one_star</th>\n",
       "      <th>reviews</th>\n",
       "      <th>product_url</th>\n",
       "    </tr>\n",
       "  </thead>\n",
       "  <tbody>\n",
       "    <tr>\n",
       "      <th>0</th>\n",
       "      <td>30-Second Data Science: The 50 Key Principles ...</td>\n",
       "      <td>30-Second Data Science: The 50 Key Principles ...</td>\n",
       "      <td>['Liberty Vittert']</td>\n",
       "      <td>GenresReferenceNonfictionComputers</td>\n",
       "      <td>160 pages</td>\n",
       "      <td>160 pages, Hardcover</td>\n",
       "      <td>3.68</td>\n",
       "      <td>3.68</td>\n",
       "      <td>34 ratings</td>\n",
       "      <td>34ÃÂ ratings</td>\n",
       "      <td>...</td>\n",
       "      <td>30-Second Data Science is the quickest way to ...</td>\n",
       "      <td>$14.99</td>\n",
       "      <td>['Kindle $14.99', 'Kindle $14.99']</td>\n",
       "      <td>7 (20%)</td>\n",
       "      <td>10 (29%)</td>\n",
       "      <td>16 (47%)</td>\n",
       "      <td>1 (2%)</td>\n",
       "      <td>0 (0%)</td>\n",
       "      <td>[('30-Second Data Science is the quickest way ...</td>\n",
       "      <td>https://www.goodreads.com/book/show/51181047-3...</td>\n",
       "    </tr>\n",
       "    <tr>\n",
       "      <th>1</th>\n",
       "      <td>A Simple Introduction to Data Science</td>\n",
       "      <td>A Simple Introduction to Data Science</td>\n",
       "      <td>['Lars Nielsen', 'noreen burlingame']</td>\n",
       "      <td>GenresTechnologyNonfictionBusiness</td>\n",
       "      <td>76 pages</td>\n",
       "      <td>76 pages, Paperback</td>\n",
       "      <td>3.47</td>\n",
       "      <td>3.47</td>\n",
       "      <td>75 ratings</td>\n",
       "      <td>75ÃÂ ratings</td>\n",
       "      <td>...</td>\n",
       "      <td>Lars Nielsen and Noreen Burlingame provide a b...</td>\n",
       "      <td>$2.99</td>\n",
       "      <td>['Kindle $2.99', 'Kindle $2.99']</td>\n",
       "      <td>14 (18%)</td>\n",
       "      <td>23 (30%)</td>\n",
       "      <td>24 (32%)</td>\n",
       "      <td>12 (16%)</td>\n",
       "      <td>2 (2%)</td>\n",
       "      <td>[('Lars Nielsen and Noreen Burlingame provide ...</td>\n",
       "      <td>https://www.goodreads.com/book/show/16286023-a...</td>\n",
       "    </tr>\n",
       "    <tr>\n",
       "      <th>2</th>\n",
       "      <td>Adventures in Financial Data Science: The empi...</td>\n",
       "      <td>Adventures in Financial Data Science: The empi...</td>\n",
       "      <td>['Graham Giller']</td>\n",
       "      <td>GenresFinance</td>\n",
       "      <td>Kindle Edition</td>\n",
       "      <td>Kindle Edition</td>\n",
       "      <td>4.00</td>\n",
       "      <td>4</td>\n",
       "      <td>1 rating</td>\n",
       "      <td>1ÃÂ rating</td>\n",
       "      <td>...</td>\n",
       "      <td>NaN</td>\n",
       "      <td>$39.99</td>\n",
       "      <td>['Kindle $39.99', 'Kindle $39.99']</td>\n",
       "      <td>0 (0%)</td>\n",
       "      <td>1 (100%)</td>\n",
       "      <td>0 (0%)</td>\n",
       "      <td>0 (0%)</td>\n",
       "      <td>0 (0%)</td>\n",
       "      <td>[('', '\\n'), ('', '\\n'), ('', '\\n')]</td>\n",
       "      <td>https://www.goodreads.com/book/show/55932069-a...</td>\n",
       "    </tr>\n",
       "    <tr>\n",
       "      <th>3</th>\n",
       "      <td>Agile Data Science 2.0: Building Full-Stack Da...</td>\n",
       "      <td>Agile Data Science 2.0: Building Full-Stack Da...</td>\n",
       "      <td>['Russell Jurney']</td>\n",
       "      <td>GenresNonfictionTechnologyComputersComputer Sc...</td>\n",
       "      <td>349 pages</td>\n",
       "      <td>349 pages, Paperback</td>\n",
       "      <td>3.57</td>\n",
       "      <td>3.57</td>\n",
       "      <td>47 ratings</td>\n",
       "      <td>47ÃÂ ratings</td>\n",
       "      <td>...</td>\n",
       "      <td>Data science teams looking to turn research in...</td>\n",
       "      <td>$38.49</td>\n",
       "      <td>['Kindle $38.49', 'Kindle $38.49']</td>\n",
       "      <td>8 (17%)</td>\n",
       "      <td>20 (42%)</td>\n",
       "      <td>10 (21%)</td>\n",
       "      <td>9 (19%)</td>\n",
       "      <td>0 (0%)</td>\n",
       "      <td>[('Data science teams looking to turn research...</td>\n",
       "      <td>https://www.goodreads.com/book/show/30014113-a...</td>\n",
       "    </tr>\n",
       "    <tr>\n",
       "      <th>4</th>\n",
       "      <td>AI &amp; Data Literacy: Empowering Citizens of Dat...</td>\n",
       "      <td>AI &amp; Data Literacy: Empowering Citizens of Dat...</td>\n",
       "      <td>['Bill Schmarzo']</td>\n",
       "      <td>GenresArtificial Intelligence</td>\n",
       "      <td>238 pages</td>\n",
       "      <td>Not Found</td>\n",
       "      <td>4.50</td>\n",
       "      <td>Not Found</td>\n",
       "      <td>2 ratings</td>\n",
       "      <td>Not Found</td>\n",
       "      <td>...</td>\n",
       "      <td>Not Found</td>\n",
       "      <td>$9.99</td>\n",
       "      <td>[]</td>\n",
       "      <td>1 (33%)</td>\n",
       "      <td>2 (66%)</td>\n",
       "      <td>0 (0%)</td>\n",
       "      <td>0 (0%)</td>\n",
       "      <td>0 (0%)</td>\n",
       "      <td>[(\"Learn the key skills and capabilities that ...</td>\n",
       "      <td>https://www.goodreads.com/book/show/170997947-...</td>\n",
       "    </tr>\n",
       "  </tbody>\n",
       "</table>\n",
       "<p>5 rows × 24 columns</p>\n",
       "</div>"
      ],
      "text/plain": [
       "                                               title  \\\n",
       "0  30-Second Data Science: The 50 Key Principles ...   \n",
       "1              A Simple Introduction to Data Science   \n",
       "2  Adventures in Financial Data Science: The empi...   \n",
       "3  Agile Data Science 2.0: Building Full-Stack Da...   \n",
       "4  AI & Data Literacy: Empowering Citizens of Dat...   \n",
       "\n",
       "                                              title1  \\\n",
       "0  30-Second Data Science: The 50 Key Principles ...   \n",
       "1              A Simple Introduction to Data Science   \n",
       "2  Adventures in Financial Data Science: The empi...   \n",
       "3  Agile Data Science 2.0: Building Full-Stack Da...   \n",
       "4  AI & Data Literacy: Empowering Citizens of Dat...   \n",
       "\n",
       "                            author_names  \\\n",
       "0                    ['Liberty Vittert']   \n",
       "1  ['Lars Nielsen', 'noreen burlingame']   \n",
       "2                      ['Graham Giller']   \n",
       "3                     ['Russell Jurney']   \n",
       "4                      ['Bill Schmarzo']   \n",
       "\n",
       "                                              genres       num_pages  \\\n",
       "0                 GenresReferenceNonfictionComputers       160 pages   \n",
       "1                 GenresTechnologyNonfictionBusiness        76 pages   \n",
       "2                                      GenresFinance  Kindle Edition   \n",
       "3  GenresNonfictionTechnologyComputersComputer Sc...       349 pages   \n",
       "4                      GenresArtificial Intelligence       238 pages   \n",
       "\n",
       "              paperback  rating    rating1 rating_count  rating_count1  ...  \\\n",
       "0  160 pages, Hardcover    3.68       3.68   34 ratings  34ÃÂ ratings  ...   \n",
       "1   76 pages, Paperback    3.47       3.47   75 ratings  75ÃÂ ratings  ...   \n",
       "2        Kindle Edition    4.00          4     1 rating    1ÃÂ rating  ...   \n",
       "3  349 pages, Paperback    3.57       3.57   47 ratings  47ÃÂ ratings  ...   \n",
       "4             Not Found    4.50  Not Found    2 ratings      Not Found  ...   \n",
       "\n",
       "                                           foreward1   price  \\\n",
       "0  30-Second Data Science is the quickest way to ...  $14.99   \n",
       "1  Lars Nielsen and Noreen Burlingame provide a b...   $2.99   \n",
       "2                                                NaN  $39.99   \n",
       "3  Data science teams looking to turn research in...  $38.49   \n",
       "4                                          Not Found   $9.99   \n",
       "\n",
       "                               price1 five_star four_star three_star  \\\n",
       "0  ['Kindle $14.99', 'Kindle $14.99']   7 (20%)  10 (29%)   16 (47%)   \n",
       "1    ['Kindle $2.99', 'Kindle $2.99']  14 (18%)  23 (30%)   24 (32%)   \n",
       "2  ['Kindle $39.99', 'Kindle $39.99']    0 (0%)  1 (100%)     0 (0%)   \n",
       "3  ['Kindle $38.49', 'Kindle $38.49']   8 (17%)  20 (42%)   10 (21%)   \n",
       "4                                  []   1 (33%)   2 (66%)     0 (0%)   \n",
       "\n",
       "   two_star one_star                                            reviews  \\\n",
       "0    1 (2%)   0 (0%)  [('30-Second Data Science is the quickest way ...   \n",
       "1  12 (16%)   2 (2%)  [('Lars Nielsen and Noreen Burlingame provide ...   \n",
       "2    0 (0%)   0 (0%)               [('', '\\n'), ('', '\\n'), ('', '\\n')]   \n",
       "3   9 (19%)   0 (0%)  [('Data science teams looking to turn research...   \n",
       "4    0 (0%)   0 (0%)  [(\"Learn the key skills and capabilities that ...   \n",
       "\n",
       "                                         product_url  \n",
       "0  https://www.goodreads.com/book/show/51181047-3...  \n",
       "1  https://www.goodreads.com/book/show/16286023-a...  \n",
       "2  https://www.goodreads.com/book/show/55932069-a...  \n",
       "3  https://www.goodreads.com/book/show/30014113-a...  \n",
       "4  https://www.goodreads.com/book/show/170997947-...  \n",
       "\n",
       "[5 rows x 24 columns]"
      ]
     },
     "execution_count": 3,
     "metadata": {},
     "output_type": "execute_result"
    }
   ],
   "source": [
    "df.head()"
   ]
  },
  {
   "cell_type": "code",
   "execution_count": null,
   "id": "ed2d5adc-41e9-438e-b5d9-0d94fde09282",
   "metadata": {},
   "outputs": [],
   "source": []
  },
  {
   "cell_type": "markdown",
   "id": "d612bb1d-8b9f-49a1-ae42-aa528212bf84",
   "metadata": {
    "tags": []
   },
   "source": [
    "### 2.0 CLEANING"
   ]
  },
  {
   "cell_type": "markdown",
   "id": "ba8fbd8c-7942-4a16-8a23-6fb1c133bfc8",
   "metadata": {},
   "source": [
    "#### Outlined Steps\n",
    "***\n",
    "1. ```title```:        drop the other title column and leave as is.\n",
    "2. ```author_names```: remove brackets and parenthesis.\n",
    "3. ```genre```:        separate by each occurence of uppercase letters.\n",
    "4. ```num_pages```:    extract the number of pages from the text and leave rows without numbers as NULL.\n",
    "5. ```paperback```:    drop.\n",
    "6. ```rating```:       drop the other rating column and leave as is.\n",
    "7. ```rating_count```: extract the rating number and drop the other rating_count column.\n",
    "8. ```foreward```:     keep as is.\n",
    "9. ```edition```:      keep as is.\n",
    "10. ```publication```: extract book format and date of publication details from _publication_info_firstedition1_ into separate columns. drop the other.\n",
    "11. ```foreward```:    drop _foreward1_ and keep other as is.\n",
    "12. ```price```:       drop _price1_, change the rows with '_unlimited_' price to 0, and 'Amazon' to NaN.\n",
    "13. ```star ratings```:on the distribution of the number of stars per review, remove the %.\n",
    "14. ```reviews```:     drop; it was scraped more comprehensively in another table.\n",
    "14. ```product_url```: keep as is.\n",
    "\n",
    "Finally, format each column to appropriate data type\n",
    "***\n"
   ]
  },
  {
   "cell_type": "markdown",
   "id": "8abe4ebd-5fbb-4180-a8b4-584d8741eea8",
   "metadata": {},
   "source": [
    "#### 2.1 Column-by-Column Extraction/Cleaning"
   ]
  },
  {
   "cell_type": "code",
   "execution_count": 4,
   "id": "fe22bec3-b8ac-452c-a9f5-9e02b0b6d075",
   "metadata": {},
   "outputs": [
    {
     "data": {
      "text/plain": [
       "Index(['title', 'title1', 'author_names', 'genres', 'num_pages', 'paperback',\n",
       "       'rating', 'rating1', 'rating_count', 'rating_count1', 'editions',\n",
       "       'publication_info_firstedition', 'publication_info_firstedition1',\n",
       "       'foreward', 'foreward1', 'price', 'price1', 'five_star', 'four_star',\n",
       "       'three_star', 'two_star', 'one_star', 'reviews', 'product_url'],\n",
       "      dtype='object')"
      ]
     },
     "execution_count": 4,
     "metadata": {},
     "output_type": "execute_result"
    }
   ],
   "source": [
    "#view current column names\n",
    "df.columns"
   ]
  },
  {
   "cell_type": "markdown",
   "id": "339fd424-d610-479b-8f2a-afff20a2a690",
   "metadata": {},
   "source": [
    "##### 2.1.1 Drop Columns Assigned for Dropping"
   ]
  },
  {
   "cell_type": "code",
   "execution_count": 5,
   "id": "ceac7a89-1292-4b79-876a-d6c05f558d58",
   "metadata": {},
   "outputs": [
    {
     "data": {
      "text/html": [
       "<div>\n",
       "<style scoped>\n",
       "    .dataframe tbody tr th:only-of-type {\n",
       "        vertical-align: middle;\n",
       "    }\n",
       "\n",
       "    .dataframe tbody tr th {\n",
       "        vertical-align: top;\n",
       "    }\n",
       "\n",
       "    .dataframe thead th {\n",
       "        text-align: right;\n",
       "    }\n",
       "</style>\n",
       "<table border=\"1\" class=\"dataframe\">\n",
       "  <thead>\n",
       "    <tr style=\"text-align: right;\">\n",
       "      <th></th>\n",
       "      <th>title</th>\n",
       "      <th>author_names</th>\n",
       "      <th>genres</th>\n",
       "      <th>num_pages</th>\n",
       "      <th>rating</th>\n",
       "      <th>rating_count</th>\n",
       "      <th>editions</th>\n",
       "      <th>publication_info_firstedition1</th>\n",
       "      <th>foreward</th>\n",
       "      <th>price</th>\n",
       "      <th>five_star</th>\n",
       "      <th>four_star</th>\n",
       "      <th>three_star</th>\n",
       "      <th>two_star</th>\n",
       "      <th>one_star</th>\n",
       "      <th>product_url</th>\n",
       "    </tr>\n",
       "  </thead>\n",
       "  <tbody>\n",
       "    <tr>\n",
       "      <th>10</th>\n",
       "      <td>Be the Outlier: How to Ace Data Science Interv...</td>\n",
       "      <td>['Shrilata Murthy']</td>\n",
       "      <td>NaN</td>\n",
       "      <td>Kindle Edition</td>\n",
       "      <td>3.75</td>\n",
       "      <td>20 ratings</td>\n",
       "      <td>3 editions</td>\n",
       "      <td>['Kindle Edition', 'Published August 4, 2020']</td>\n",
       "      <td>According to LinkedIn's third annual U.S. Emer...</td>\n",
       "      <td>$5.99</td>\n",
       "      <td>5 (25%)</td>\n",
       "      <td>8 (40%)</td>\n",
       "      <td>5 (25%)</td>\n",
       "      <td>1 (5%)</td>\n",
       "      <td>1 (5%)</td>\n",
       "      <td>https://www.goodreads.com/book/show/55000016-b...</td>\n",
       "    </tr>\n",
       "    <tr>\n",
       "      <th>11</th>\n",
       "      <td>Big Data and Social Science: A Practical Guide...</td>\n",
       "      <td>['Ian Foster (Editor)', 'Rayid Ghani (Editor)'...</td>\n",
       "      <td>NaN</td>\n",
       "      <td>376 pages</td>\n",
       "      <td>2.67</td>\n",
       "      <td>6 ratings</td>\n",
       "      <td>7 editions</td>\n",
       "      <td>['376 pages, Hardcover', 'Published August 9, ...</td>\n",
       "      <td>Both Traditional Students and Working Professi...</td>\n",
       "      <td>on</td>\n",
       "      <td>0 (0%)</td>\n",
       "      <td>1 (16%)</td>\n",
       "      <td>3 (50%)</td>\n",
       "      <td>1 (16%)</td>\n",
       "      <td>1 (16%)</td>\n",
       "      <td>https://www.goodreads.com/book/show/29395434-b...</td>\n",
       "    </tr>\n",
       "    <tr>\n",
       "      <th>12</th>\n",
       "      <td>Build a Career in Data Science</td>\n",
       "      <td>['Emily  Robinson (Goodreads Author)', 'Jacque...</td>\n",
       "      <td>GenresComputer ScienceProgrammingTechnologyNon...</td>\n",
       "      <td>250 pages</td>\n",
       "      <td>4.44</td>\n",
       "      <td>148 ratings</td>\n",
       "      <td>1 edition</td>\n",
       "      <td>['250 pages, Hardcover', 'Published January 1,...</td>\n",
       "      <td>Build a Career in Data Science is your guide t...</td>\n",
       "      <td>$28.99</td>\n",
       "      <td>88 (59%)</td>\n",
       "      <td>41 (27%)</td>\n",
       "      <td>18 (12%)</td>\n",
       "      <td>1 (&lt;1%)</td>\n",
       "      <td>1 (&lt;1%)</td>\n",
       "      <td>https://www.goodreads.com/book/show/52661559-b...</td>\n",
       "    </tr>\n",
       "  </tbody>\n",
       "</table>\n",
       "</div>"
      ],
      "text/plain": [
       "                                                title  \\\n",
       "10  Be the Outlier: How to Ace Data Science Interv...   \n",
       "11  Big Data and Social Science: A Practical Guide...   \n",
       "12                     Build a Career in Data Science   \n",
       "\n",
       "                                         author_names  \\\n",
       "10                                ['Shrilata Murthy']   \n",
       "11  ['Ian Foster (Editor)', 'Rayid Ghani (Editor)'...   \n",
       "12  ['Emily  Robinson (Goodreads Author)', 'Jacque...   \n",
       "\n",
       "                                               genres       num_pages  rating  \\\n",
       "10                                                NaN  Kindle Edition    3.75   \n",
       "11                                                NaN       376 pages    2.67   \n",
       "12  GenresComputer ScienceProgrammingTechnologyNon...       250 pages    4.44   \n",
       "\n",
       "   rating_count    editions  \\\n",
       "10   20 ratings  3 editions   \n",
       "11    6 ratings  7 editions   \n",
       "12  148 ratings   1 edition   \n",
       "\n",
       "                       publication_info_firstedition1  \\\n",
       "10     ['Kindle Edition', 'Published August 4, 2020']   \n",
       "11  ['376 pages, Hardcover', 'Published August 9, ...   \n",
       "12  ['250 pages, Hardcover', 'Published January 1,...   \n",
       "\n",
       "                                             foreward   price five_star  \\\n",
       "10  According to LinkedIn's third annual U.S. Emer...   $5.99   5 (25%)   \n",
       "11  Both Traditional Students and Working Professi...      on    0 (0%)   \n",
       "12  Build a Career in Data Science is your guide t...  $28.99  88 (59%)   \n",
       "\n",
       "   four_star three_star two_star one_star  \\\n",
       "10   8 (40%)    5 (25%)   1 (5%)   1 (5%)   \n",
       "11   1 (16%)    3 (50%)  1 (16%)  1 (16%)   \n",
       "12  41 (27%)   18 (12%)  1 (<1%)  1 (<1%)   \n",
       "\n",
       "                                          product_url  \n",
       "10  https://www.goodreads.com/book/show/55000016-b...  \n",
       "11  https://www.goodreads.com/book/show/29395434-b...  \n",
       "12  https://www.goodreads.com/book/show/52661559-b...  "
      ]
     },
     "execution_count": 5,
     "metadata": {},
     "output_type": "execute_result"
    }
   ],
   "source": [
    "#drop all columns identified to be dropped\n",
    "cols_to_drop = ['title1','paperback','rating1','rating_count1','publication_info_firstedition',\n",
    "                'foreward1','price1','reviews']\n",
    "df = df.drop(cols_to_drop, axis=1)\n",
    "df.iloc[10:13]"
   ]
  },
  {
   "cell_type": "markdown",
   "id": "7deceb4c-4b27-461a-8486-12fa84b9863b",
   "metadata": {},
   "source": [
    "##### 2.1.2 Separate Author Names"
   ]
  },
  {
   "cell_type": "code",
   "execution_count": 6,
   "id": "ff7328c6-450f-4bbf-bd24-8312952752ce",
   "metadata": {},
   "outputs": [],
   "source": [
    "author = []\n",
    "for authors in df.author_names:\n",
    "    auth = authors[2:-2].replace(\"'\",\"\").replace(\"[\",\"\").replace(\"]\",\"\").replace('(Editor)','')\n",
    "    try:\n",
    "        main_author = auth.split(',', maxsplit=1)[0]#authors[0]\n",
    "        co_authors = auth.split(',', maxsplit=1)[1]#authors[1:]\n",
    "    except IndexError:\n",
    "        co_authors = np.nan\n",
    "    \n",
    "    author_data = [main_author, co_authors]\n",
    "    author.append(author_data)\n"
   ]
  },
  {
   "cell_type": "code",
   "execution_count": 7,
   "id": "8e5c31b7-d325-4af0-be5e-5e160e8afdc6",
   "metadata": {},
   "outputs": [],
   "source": [
    "authors_ = pd.DataFrame(author, columns=['author','co_author(s)'], index=None)\n",
    "\n",
    "df = pd.concat([df, authors_], axis=1)\n"
   ]
  },
  {
   "cell_type": "markdown",
   "id": "ffd46479-709d-41d5-aa24-629bd34b9da1",
   "metadata": {},
   "source": [
    "##### 2.1.3 Genres"
   ]
  },
  {
   "cell_type": "code",
   "execution_count": 8,
   "id": "41f0b595-7778-44b0-b0cb-c238263eb413",
   "metadata": {},
   "outputs": [],
   "source": [
    "re_gen = []\n",
    "for g in df['genres']:\n",
    "    try:\n",
    "        \n",
    "        gens = ', '.join([s for s in re.split(\"([A-Z][^A-Z]*)\", g) if s])\n",
    "        gens = gens.replace('Not , Found', 'Not Found')#[0:]\n",
    "        re_gen.append(gens)\n",
    "    except TypeError:\n",
    "        continue\n"
   ]
  },
  {
   "cell_type": "code",
   "execution_count": 9,
   "id": "de42c962-e70c-41dd-b19d-f7cfe97abd38",
   "metadata": {},
   "outputs": [],
   "source": [
    "\n",
    "genres_ = pd.DataFrame(re_gen, index=None, columns=['genre(s)'])\n",
    "#publication_date_.head()\n",
    "\n",
    "df = pd.concat([df, genres_], axis=1)\n"
   ]
  },
  {
   "cell_type": "markdown",
   "id": "3c01f191-a820-41a1-9fdc-e34fd0be440a",
   "metadata": {},
   "source": [
    "##### 2.1.4 Number of Pages"
   ]
  },
  {
   "cell_type": "code",
   "execution_count": 10,
   "id": "ff38696a-7753-4882-9798-191ea00d8656",
   "metadata": {},
   "outputs": [],
   "source": [
    "#Number of pages\n",
    "page_info = []\n",
    "for p in df.num_pages:\n",
    "    if 'pages' in p:\n",
    "        #print(p.split(' pages')[0])\n",
    "        pg = p.split(' pages')[0]\n",
    "    else:\n",
    "        #print()\n",
    "        pg = np.NaN\n",
    "    page_info.append(pg)"
   ]
  },
  {
   "cell_type": "code",
   "execution_count": 11,
   "id": "c1beca09-825d-4a72-ba6a-1c2347ccdf80",
   "metadata": {},
   "outputs": [],
   "source": [
    "page_info_ = pd.Series(page_info)\n",
    "df.num_pages = page_info_\n",
    "\n",
    "df.num_pages = df.num_pages.astype('Int32')"
   ]
  },
  {
   "cell_type": "markdown",
   "id": "437bd4f7-1373-4da1-a0b9-d14d6c77820c",
   "metadata": {},
   "source": [
    "##### 2.1.5 Number of Ratings"
   ]
  },
  {
   "cell_type": "code",
   "execution_count": 12,
   "id": "6a5db7b8-3351-41f7-bd59-b1a4dbebb5ab",
   "metadata": {},
   "outputs": [],
   "source": [
    "#Count of ratings received\n",
    "ratings_info = []\n",
    "for r in df.rating_count:\n",
    "    #print(r)\n",
    "    rt = r.split(' rat')[0].replace(',','')\n",
    "    ratings_info.append(rt)"
   ]
  },
  {
   "cell_type": "code",
   "execution_count": 13,
   "id": "c23cc5d0-bbb6-456c-9375-ff02c4e95a95",
   "metadata": {},
   "outputs": [],
   "source": [
    "ratings_info_ = pd.Series(ratings_info)\n",
    "df.rating_count = ratings_info_\n",
    "\n",
    "df.rating_count = df.rating_count.apply(pd.to_numeric)"
   ]
  },
  {
   "cell_type": "markdown",
   "id": "0e6ac788-ca11-435e-816f-f59e39d78ad7",
   "metadata": {},
   "source": [
    "##### 2.1.6 Editions"
   ]
  },
  {
   "cell_type": "code",
   "execution_count": 14,
   "id": "bea3c101-b656-47f3-bacf-50c44761ddd9",
   "metadata": {},
   "outputs": [],
   "source": [
    "#Count of ratings received\n",
    "editions_info = []\n",
    "for ed in df.editions:\n",
    "    #print(r)\n",
    "    edt = ed.split(' edit')[0].replace(',','')\n",
    "    editions_info.append(rt)"
   ]
  },
  {
   "cell_type": "code",
   "execution_count": 15,
   "id": "8aaf3c32-c6ae-4505-af76-0a9ef17388cb",
   "metadata": {},
   "outputs": [],
   "source": [
    "editions_info_ = pd.Series(editions_info)\n",
    "df.editions = editions_info_\n",
    "\n",
    "df.editions = df.editions.apply(pd.to_numeric)"
   ]
  },
  {
   "cell_type": "markdown",
   "id": "07ef0267-a34e-4050-8ab6-8365d2ed06e2",
   "metadata": {},
   "source": [
    "##### 2.1.7 Publication Date & Format"
   ]
  },
  {
   "cell_type": "code",
   "execution_count": 16,
   "id": "e84f78fc-ddb6-4882-983a-ff5e01a35dfb",
   "metadata": {},
   "outputs": [],
   "source": [
    "publication = []\n",
    "for pb in df.publication_info_firstedition1:\n",
    "    if 'Published' in pb:\n",
    "        start = pb.find('Published ')\n",
    "        pbd = pb[start+10:-2]\n",
    "\n",
    "    else:\n",
    "        #print('No Publication Date')\n",
    "        pbd = np.nan\n",
    "\n",
    "    publication.append(pbd)    \n"
   ]
  },
  {
   "cell_type": "code",
   "execution_count": 17,
   "id": "08f4da43-c455-4ca4-b8ff-948d315a6f88",
   "metadata": {},
   "outputs": [],
   "source": [
    "publication_date_ = pd.DataFrame(publication, index=None, columns=['publication_date'])\n",
    "#publication_date_.head()\n",
    "\n",
    "df = pd.concat([df, publication_date_], axis=1)\n"
   ]
  },
  {
   "cell_type": "code",
   "execution_count": 18,
   "id": "820f73d4-f579-484e-ae52-a99534c323f6",
   "metadata": {},
   "outputs": [],
   "source": [
    "# Define a function to convert a date string to a datetime object\n",
    "def convert_to_date(date_string):\n",
    "    \n",
    "    try:\n",
    "        date_format = '%B %d, %Y'\n",
    "        date = pd.to_datetime(date_string, format=date_format)\n",
    "    except (ValueError,TypeError):\n",
    "        date_format1 = '%B %d %Y'\n",
    "        date = pd.to_datetime(date_string, format=date_format1)\n",
    "    \n",
    "    return date\n",
    "\n",
    "# Apply the function to the DataFrame column\n",
    "df['publication_date'] = df['publication_date'].apply(convert_to_date)"
   ]
  },
  {
   "cell_type": "code",
   "execution_count": 19,
   "id": "39ca3c09-7126-4b34-94cb-b43792d98353",
   "metadata": {},
   "outputs": [],
   "source": [
    "#book publication format\n",
    "\n",
    "book_format = []\n",
    "for bk in df.publication_info_firstedition1:\n",
    "    if ('ebook' in bk or 'CD-ROM' in bk):\n",
    "        eb = 'ebbok'\n",
    "\n",
    "    elif 'Leather' in bk:\n",
    "        eb = 'Leather bound'\n",
    "    \n",
    "    elif 'Paperback' in bk:\n",
    "        eb = 'Paperback'\n",
    "    \n",
    "    elif 'Leather' in bk:\n",
    "        eb = 'Leather bound'\n",
    "    \n",
    "    elif 'Kindle' in bk:\n",
    "        eb = 'Kindle Edition'\n",
    "        \n",
    "    elif 'Hardcover' in bk:\n",
    "        eb = 'Hardcover'\n",
    "    \n",
    "    else:\n",
    "        eb = 'Unknown Binding'\n",
    "\n",
    "    book_format.append(eb)    "
   ]
  },
  {
   "cell_type": "code",
   "execution_count": 20,
   "id": "752040d4-529c-467d-a876-e48c4ff3767e",
   "metadata": {},
   "outputs": [],
   "source": [
    "book_format_ = pd.DataFrame(book_format, index=None, columns=['book_format'])\n",
    "#ebook_check_.head()\n",
    "\n",
    "df = pd.concat([df, book_format_], axis=1)\n"
   ]
  },
  {
   "cell_type": "markdown",
   "id": "3ed4ab91-24dc-4e13-ae62-ef897f41b5b8",
   "metadata": {},
   "source": [
    "##### 2.1.8 Cost of Book (if available for purchase on Goodreads)"
   ]
  },
  {
   "cell_type": "code",
   "execution_count": 21,
   "id": "ce681099-1b7c-455a-b524-4c100f69f0a1",
   "metadata": {},
   "outputs": [],
   "source": [
    "book_cost = []\n",
    "for pr in df.price:\n",
    "    if '$' in pr:\n",
    "        prc = pr[1:]\n",
    "\n",
    "    else:\n",
    "        prc = np.nan\n",
    "\n",
    "    book_cost.append(prc) "
   ]
  },
  {
   "cell_type": "code",
   "execution_count": 22,
   "id": "917bd820-1adf-44ca-b0c8-b8643858cc3c",
   "metadata": {},
   "outputs": [],
   "source": [
    "\n",
    "book_cost_ = pd.DataFrame(book_cost, index=None, columns=['book_cost($)'])\n",
    "\n",
    "df = pd.concat([df, book_cost_], axis=1)\n",
    "\n",
    "df['book_cost($)'] = df['book_cost($)'].astype('float')"
   ]
  },
  {
   "cell_type": "markdown",
   "id": "bfefd0f4-fafe-436b-98f5-b225dee0f0d7",
   "metadata": {},
   "source": [
    "##### 2.1.9 Mode of Accessing Book Item"
   ]
  },
  {
   "cell_type": "code",
   "execution_count": 23,
   "id": "887afbc8-031a-4f88-a951-f99fc157a9b7",
   "metadata": {},
   "outputs": [],
   "source": [
    "book_access = []\n",
    "for ac in df.price:\n",
    "    if '$' in ac:\n",
    "        acc = 'Purchase on Goodreads'\n",
    "\n",
    "    elif 'on' in ac:\n",
    "        acc = 'Purchase on Amazon'\n",
    "        \n",
    "    else:\n",
    "        acc='Kindle Unlimited'\n",
    "\n",
    "    book_access.append(acc) "
   ]
  },
  {
   "cell_type": "code",
   "execution_count": 24,
   "id": "7e8a8e59-e385-412a-b383-03359aa7854c",
   "metadata": {},
   "outputs": [],
   "source": [
    "#\n",
    "book_access_ = pd.DataFrame(book_access, index=None, columns=['book_access'])\n",
    "\n",
    "df = pd.concat([df, book_access_], axis=1)"
   ]
  },
  {
   "cell_type": "markdown",
   "id": "e8166cf3-c631-48f0-96b8-ac9116a772e1",
   "metadata": {},
   "source": [
    "##### 2.1.10 Distribution of Ratings Counts"
   ]
  },
  {
   "cell_type": "code",
   "execution_count": 25,
   "id": "322bc347-60bf-49ac-898b-574485db78be",
   "metadata": {},
   "outputs": [],
   "source": [
    "df['five_star'] = [i[0].strip() for i in df['five_star'].str.split('(')]\n",
    "df['four_star'] = [i[0].strip() for i in df['four_star'].str.split('(')]\n",
    "df['three_star'] = [i[0].strip() for i in df['three_star'].str.split('(')]\n",
    "df['two_star'] = [i[0].strip() for i in df['two_star'].str.split('(')]\n",
    "df['one_star'] = [i[0].strip() for i in df['one_star'].str.split('(')]"
   ]
  },
  {
   "cell_type": "code",
   "execution_count": 26,
   "id": "adbe1934-f526-422a-bc19-ba02d46b861a",
   "metadata": {},
   "outputs": [],
   "source": [
    "#convert to numeric --- int32\n",
    "star_dist = [i for i in df.columns.to_list() if '_star' in i]\n",
    "df[star_dist] = df[star_dist].astype('int')"
   ]
  },
  {
   "cell_type": "code",
   "execution_count": 27,
   "id": "096cab08-4f3a-4174-b955-fa0e0bd673c4",
   "metadata": {},
   "outputs": [],
   "source": [
    "#df[star_dist] = df[['five_star', 'four_star', 'three_star', 'two_star', 'one_star']].astype('int')"
   ]
  },
  {
   "cell_type": "markdown",
   "id": "0ee0431c-bf6d-4b05-9af6-df7000036bb7",
   "metadata": {},
   "source": [
    "##### 2.1.11 Drop More Columns ---"
   ]
  },
  {
   "cell_type": "code",
   "execution_count": 28,
   "id": "65971a8e-9e2e-4dca-8a19-e9e908250c12",
   "metadata": {},
   "outputs": [],
   "source": [
    "#Drop the Price and Publicationinfo columns from the original file\n",
    "#Since the needed information has been extracted from these columns\n",
    "\n",
    "df.drop(['price', 'publication_info_firstedition1', 'author_names', 'genres'], axis=1, inplace=True)"
   ]
  },
  {
   "cell_type": "code",
   "execution_count": 29,
   "id": "0f2ce9cc-35ea-4f3f-869f-1e7fa095ab91",
   "metadata": {},
   "outputs": [
    {
     "name": "stdout",
     "output_type": "stream",
     "text": [
      "<class 'pandas.core.frame.DataFrame'>\n",
      "Int64Index: 1411 entries, 0 to 1410\n",
      "Data columns (total 19 columns):\n",
      " #   Column            Non-Null Count  Dtype         \n",
      "---  ------            --------------  -----         \n",
      " 0   title             1411 non-null   object        \n",
      " 1   num_pages         1085 non-null   Int32         \n",
      " 2   rating            1411 non-null   float64       \n",
      " 3   rating_count      1411 non-null   int64         \n",
      " 4   editions          1411 non-null   int64         \n",
      " 5   foreward          1366 non-null   object        \n",
      " 6   five_star         1411 non-null   int32         \n",
      " 7   four_star         1411 non-null   int32         \n",
      " 8   three_star        1411 non-null   int32         \n",
      " 9   two_star          1411 non-null   int32         \n",
      " 10  one_star          1411 non-null   int32         \n",
      " 11  product_url       1411 non-null   object        \n",
      " 12  author            1411 non-null   object        \n",
      " 13  co_author(s)      338 non-null    object        \n",
      " 14  genre(s)          531 non-null    object        \n",
      " 15  publication_date  1122 non-null   datetime64[ns]\n",
      " 16  book_format       1411 non-null   object        \n",
      " 17  book_cost($)      367 non-null    float64       \n",
      " 18  book_access       1411 non-null   object        \n",
      "dtypes: Int32(1), datetime64[ns](1), float64(2), int32(5), int64(2), object(8)\n",
      "memory usage: 188.8+ KB\n"
     ]
    }
   ],
   "source": [
    "#preview information\n",
    "df.info()"
   ]
  },
  {
   "cell_type": "code",
   "execution_count": 35,
   "id": "7e3e9a3b-f9ac-4331-ba8c-9c597e41c7fe",
   "metadata": {},
   "outputs": [],
   "source": [
    "#rename columns & re-arange\n",
    "df.rename(columns = {'rating':'avg_rating', 'rating_count':'rating_volume', \n",
    "                     'genre(s)':'genres', 'book_cost($)':'price'}, inplace = True)"
   ]
  },
  {
   "cell_type": "code",
   "execution_count": 37,
   "id": "425934da-8877-42a8-9863-5474daf03e3c",
   "metadata": {},
   "outputs": [],
   "source": [
    "re_cols = ['title', 'author', 'co_author(s)', 'avg_rating', 'rating_volume', 'genres',\n",
    "           'price', 'num_pages', 'editions','foreward', 'five_star', 'four_star',\n",
    "           'three_star', 'two_star','one_star', 'publication_date',\n",
    "           'book_format', 'book_access', 'product_url']\n",
    "\n",
    "df = df[re_cols]"
   ]
  },
  {
   "cell_type": "code",
   "execution_count": 30,
   "id": "b112220d-2263-487c-bb48-cb146375bb21",
   "metadata": {},
   "outputs": [],
   "source": [
    "#save cleaned data to working directory\n",
    "df.to_csv('cleaned_books.csv', index=False)"
   ]
  }
 ],
 "metadata": {
  "kernelspec": {
   "display_name": "Python 3 (ipykernel)",
   "language": "python",
   "name": "python3"
  },
  "language_info": {
   "codemirror_mode": {
    "name": "ipython",
    "version": 3
   },
   "file_extension": ".py",
   "mimetype": "text/x-python",
   "name": "python",
   "nbconvert_exporter": "python",
   "pygments_lexer": "ipython3",
   "version": "3.8.13"
  }
 },
 "nbformat": 4,
 "nbformat_minor": 5
}
